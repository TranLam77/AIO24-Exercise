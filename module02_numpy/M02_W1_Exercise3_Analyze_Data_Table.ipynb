{
  "cells": [
    {
      "cell_type": "markdown",
      "metadata": {
        "id": "GR-zUbVi3Ygg"
      },
      "source": [
        "# Download data table from csv file"
      ]
    },
    {
      "cell_type": "code",
      "execution_count": 31,
      "metadata": {
        "colab": {
          "base_uri": "https://localhost:8080/"
        },
        "id": "P1Rnxyes3FMm",
        "outputId": "a0e62f74-cf88-43be-83d0-d54f57d6213c"
      },
      "outputs": [
        {
          "name": "stdout",
          "output_type": "stream",
          "text": [
            "Downloading...\n",
            "From: https://drive.google.com/uc?id=1iA0WmVfW88HyJvTBSQDI5vesf-pgKabq\n",
            "To: /content/advertising.csv\n",
            "\r  0% 0.00/4.06k [00:00<?, ?B/s]\r100% 4.06k/4.06k [00:00<00:00, 11.5MB/s]\n"
          ]
        }
      ],
      "source": [
        "# Download data\n",
        "!gdown 1iA0WmVfW88HyJvTBSQDI5vesf-pgKabq\n",
        "\n",
        "import pandas as pd\n",
        "df = pd.read_csv('/content/advertising.csv')\n",
        "#print(df)\n",
        "data = df.to_numpy()\n",
        "#print(data)"
      ]
    },
    {
      "cell_type": "markdown",
      "metadata": {
        "id": "Hc5vyqRm3-qv"
      },
      "source": [
        "# Question 15"
      ]
    },
    {
      "cell_type": "code",
      "execution_count": null,
      "metadata": {
        "colab": {
          "base_uri": "https://localhost:8080/"
        },
        "id": "tt_5jtRq4Rl6",
        "outputId": "2d063e9c-12d5-4db9-b330-9b91342ec245"
      },
      "outputs": [
        {
          "name": "stdout",
          "output_type": "stream",
          "text": [
            "Max: 27.0 - Index: 175\n"
          ]
        }
      ],
      "source": [
        "import numpy as np\n",
        "\n",
        "sales_data = data[:,3]\n",
        "max_sales = np.max(sales_data)\n",
        "max_sales_index = np.argmax(sales_data)\n",
        "\n",
        "print(\"Max:\", max_sales, \"- Index:\", max_sales_index)\n"
      ]
    },
    {
      "cell_type": "markdown",
      "metadata": {
        "id": "MHJKHkpC4DQK"
      },
      "source": [
        "# Question 16"
      ]
    },
    {
      "cell_type": "code",
      "execution_count": null,
      "metadata": {
        "colab": {
          "base_uri": "https://localhost:8080/"
        },
        "id": "zoj03LXgpWgE",
        "outputId": "c94ad8b8-f7c8-48e1-de7f-b37314c61bf2"
      },
      "outputs": [
        {
          "name": "stdout",
          "output_type": "stream",
          "text": [
            "147.0425\n"
          ]
        }
      ],
      "source": [
        "import numpy as np\n",
        "\n",
        "tv_data = data[:,0]\n",
        "avg_tv = np.mean(tv_data)\n",
        "\n",
        "print(avg_tv)"
      ]
    },
    {
      "cell_type": "markdown",
      "metadata": {
        "id": "4zsB0U4K4Etp"
      },
      "source": [
        "# Question 17"
      ]
    },
    {
      "cell_type": "code",
      "execution_count": null,
      "metadata": {
        "colab": {
          "base_uri": "https://localhost:8080/"
        },
        "id": "5ewYiiiTqWyy",
        "outputId": "ef1e8b0b-a84e-4aed-9d6c-3b9821e9834d"
      },
      "outputs": [
        {
          "name": "stdout",
          "output_type": "stream",
          "text": [
            "40\n"
          ]
        }
      ],
      "source": [
        "import numpy as np\n",
        "\n",
        "sales_data = data[:,3]\n",
        "sales_greater_20 = np.sum(sales_data>=20)\n",
        "\n",
        "print(sales_greater_20)"
      ]
    },
    {
      "cell_type": "markdown",
      "metadata": {
        "id": "I-0Zpu794GVy"
      },
      "source": [
        "# Question 18"
      ]
    },
    {
      "cell_type": "code",
      "execution_count": null,
      "metadata": {
        "colab": {
          "base_uri": "https://localhost:8080/"
        },
        "id": "FtINuf-trR6N",
        "outputId": "07a463d4-3290-496f-b655-546259223b95"
      },
      "outputs": [
        {
          "name": "stdout",
          "output_type": "stream",
          "text": [
            "26.222935779816517\n"
          ]
        }
      ],
      "source": [
        "import numpy as np\n",
        "\n",
        "sales_filter = data[:,3]>=15\n",
        "radio_data = data[:,1]\n",
        "radio_filter = radio_data * sales_filter\n",
        "avg_radio = np.sum(radio_filter)/np.sum(sales_filter)\n",
        "print(avg_radio)"
      ]
    },
    {
      "cell_type": "markdown",
      "metadata": {
        "id": "xHOfDr1j4IHH"
      },
      "source": [
        "# Question 19"
      ]
    },
    {
      "cell_type": "code",
      "execution_count": null,
      "metadata": {
        "colab": {
          "base_uri": "https://localhost:8080/"
        },
        "id": "2NNAd4bVwyXF",
        "outputId": "2891b73f-78df-4e82-9ec1-4704978a4654"
      },
      "outputs": [
        {
          "name": "stdout",
          "output_type": "stream",
          "text": [
            "1405.1\n"
          ]
        }
      ],
      "source": [
        "import numpy as np\n",
        "\n",
        "newspaper_data = data[:,2]\n",
        "avg_newspaper = np.mean(newspaper_data)\n",
        "newspaper_filter = newspaper_data > avg_newspaper\n",
        "sales_data = data[:,3]\n",
        "sales_filter = sales_data * newspaper_filter\n",
        "sum_sales = np.sum(sales_filter)\n",
        "print(sum_sales)"
      ]
    },
    {
      "cell_type": "markdown",
      "metadata": {
        "id": "Z7YvhUxL4JjR"
      },
      "source": [
        "# Question 20"
      ]
    },
    {
      "cell_type": "code",
      "execution_count": null,
      "metadata": {
        "colab": {
          "base_uri": "https://localhost:8080/"
        },
        "id": "Hy1DhjE7yjqv",
        "outputId": "4ed50f40-e130-4e6b-b32f-3782d015d396"
      },
      "outputs": [
        {
          "name": "stdout",
          "output_type": "stream",
          "text": [
            "['Bad' 'Bad' 'Good']\n"
          ]
        }
      ],
      "source": [
        "import numpy as np\n",
        "\n",
        "sales_data = data[:,3]\n",
        "sales_avg = np.mean(sales_data)\n",
        "scores = np.where(sales_data == sales_avg, 'Average',\n",
        "                  np.where(sales_data > sales_avg, 'Good', 'Bad'))\n",
        "\n",
        "print(scores[7:10])"
      ]
    },
    {
      "cell_type": "markdown",
      "metadata": {
        "id": "PEa3Bc6E4LCc"
      },
      "source": [
        "# Question 21"
      ]
    },
    {
      "cell_type": "code",
      "execution_count": null,
      "metadata": {
        "colab": {
          "base_uri": "https://localhost:8080/"
        },
        "id": "w3gQ3H3G0LwH",
        "outputId": "713a9a13-2b7d-4363-8345-709114ed0d5e"
      },
      "outputs": [
        {
          "name": "stdout",
          "output_type": "stream",
          "text": [
            "15.130500000000001\n",
            "15.2\n",
            "['Bad' 'Bad' 'Good']\n"
          ]
        }
      ],
      "source": [
        "import numpy as np\n",
        "\n",
        "sales_data = data[:,3]\n",
        "sales_avg = np.mean(sales_data)\n",
        "sales_avg_closet = np.min(abs(sales_data - sales_avg)) + sales_avg\n",
        "\n",
        "scores = np.where(sales_data == sales_avg_closet, 'Average',\n",
        "                  np.where(sales_data > sales_avg_closet, 'Good', 'Bad'))\n",
        "\n",
        "print(sales_avg)\n",
        "print(sales_avg_closet)\n",
        "print(scores[7:10])"
      ]
    }
  ],
  "metadata": {
    "colab": {
      "provenance": []
    },
    "kernelspec": {
      "display_name": "Python 3",
      "name": "python3"
    },
    "language_info": {
      "name": "python"
    }
  },
  "nbformat": 4,
  "nbformat_minor": 0
}
