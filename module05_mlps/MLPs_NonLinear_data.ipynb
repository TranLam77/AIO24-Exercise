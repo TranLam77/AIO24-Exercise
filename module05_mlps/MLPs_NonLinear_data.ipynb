{
  "nbformat": 4,
  "nbformat_minor": 0,
  "metadata": {
    "colab": {
      "provenance": [],
      "toc_visible": true
    },
    "kernelspec": {
      "name": "python3",
      "display_name": "Python 3"
    },
    "language_info": {
      "name": "python"
    }
  },
  "cells": [
    {
      "cell_type": "markdown",
      "source": [
        "# 1.Load dataset"
      ],
      "metadata": {
        "id": "CyripThi2p6B"
      }
    },
    {
      "cell_type": "code",
      "execution_count": 51,
      "metadata": {
        "colab": {
          "base_uri": "https://localhost:8080/"
        },
        "id": "IEYz60_016zY",
        "outputId": "169dee6e-d34e-463c-e4f0-d99993a46a7d"
      },
      "outputs": [
        {
          "output_type": "stream",
          "name": "stdout",
          "text": [
            "/usr/local/lib/python3.10/dist-packages/gdown/__main__.py:140: FutureWarning: Option `--id` was deprecated in version 4.3.1 and will be removed in 5.0. You don't need to pass it anymore to use a file ID.\n",
            "  warnings.warn(\n",
            "Downloading...\n",
            "From: https://drive.google.com/uc?id=1SqSn_8rxkk-Qvu4JLMcN_3ZFGDNa6P_V\n",
            "To: /content/NonLinear_data.npy\n",
            "100% 5.57k/5.57k [00:00<00:00, 14.0MB/s]\n"
          ]
        }
      ],
      "source": [
        "! gdown --id 1SqSn_8rxkk-Qvu4JLMcN_3ZFGDNa6P_V"
      ]
    },
    {
      "cell_type": "markdown",
      "source": [
        "# 2.Import neccessary libraries"
      ],
      "metadata": {
        "id": "nHGzjr9M3Cte"
      }
    },
    {
      "cell_type": "code",
      "source": [
        "import numpy as np\n",
        "import pandas as pd\n",
        "import matplotlib.pyplot as plt\n",
        "\n",
        "import torch\n",
        "import torch.nn as nn\n",
        "import torch.nn.functional as F\n",
        "from torch.utils.data import Dataset, DataLoader\n",
        "\n",
        "from sklearn.model_selection import train_test_split\n",
        "from sklearn.preprocessing import StandardScaler"
      ],
      "metadata": {
        "id": "fWgv_1qq3F6u"
      },
      "execution_count": 52,
      "outputs": []
    },
    {
      "cell_type": "markdown",
      "source": [
        "# 3.Set a fix random state"
      ],
      "metadata": {
        "id": "gJ7iavfg3T33"
      }
    },
    {
      "cell_type": "code",
      "source": [
        "random_state = 59\n",
        "np.random.seed(random_state)\n",
        "torch.manual_seed(random_state)\n",
        "\n",
        "if torch.cuda.is_available():\n",
        "    torch.cuda.manual_seed(random_state)"
      ],
      "metadata": {
        "id": "jLR6N15N3f5x"
      },
      "execution_count": 53,
      "outputs": []
    },
    {
      "cell_type": "markdown",
      "source": [
        "# 4.Setup the computation device"
      ],
      "metadata": {
        "id": "HNnPo8Dy39Xn"
      }
    },
    {
      "cell_type": "code",
      "source": [
        "device = torch.device('cuda:0' if torch.cuda.is_available() else 'cpu')"
      ],
      "metadata": {
        "id": "DR_NwAbk4IVI"
      },
      "execution_count": 54,
      "outputs": []
    },
    {
      "cell_type": "markdown",
      "source": [
        "# 5.Read dataset"
      ],
      "metadata": {
        "id": "nakwoBUi4UJn"
      }
    },
    {
      "cell_type": "code",
      "source": [
        "data_path = '/content/NonLinear_data.npy'\n",
        "data = np.load(data_path, allow_pickle=True).item()"
      ],
      "metadata": {
        "id": "Sd-Bjvfj4Vz_"
      },
      "execution_count": 55,
      "outputs": []
    },
    {
      "cell_type": "markdown",
      "source": [
        "# 6.Reprocessing data"
      ],
      "metadata": {
        "id": "aNqbBrADHEqr"
      }
    },
    {
      "cell_type": "code",
      "source": [
        "# a) Get X features andy lable\n",
        "X, y = data['X'], data['labels']\n",
        "\n",
        "print(X.shape, y.shape)"
      ],
      "metadata": {
        "id": "SodEkZSg4y_H",
        "colab": {
          "base_uri": "https://localhost:8080/"
        },
        "outputId": "a7bdd6e3-28a7-436a-a50e-4c4ee0465456"
      },
      "execution_count": 56,
      "outputs": [
        {
          "output_type": "stream",
          "name": "stdout",
          "text": [
            "(300, 2) (300,)\n"
          ]
        }
      ]
    },
    {
      "cell_type": "code",
      "source": [
        "# b) Divide dataset to sub-datasets: train, val, test\n",
        "\n",
        "#train, val, test: 7:2:1\n",
        "val_size = 0.2\n",
        "test_size = 0.125\n",
        "isshuffle = True\n",
        "\n",
        "X_train, X_val, y_train, y_val = train_test_split(X, y, test_size=val_size, random_state=random_state, shuffle=isshuffle)\n",
        "X_train, X_test, y_train, y_test = train_test_split(X_train, y_train, test_size=test_size, random_state=random_state, shuffle=isshuffle)\n",
        "\n",
        "print(X_train.shape)\n",
        "print(X_val.shape)\n",
        "print(X_test.shape)"
      ],
      "metadata": {
        "colab": {
          "base_uri": "https://localhost:8080/"
        },
        "id": "oJRbYilq5PSA",
        "outputId": "781aa31d-d4c3-4214-c057-e0b96631623a"
      },
      "execution_count": 57,
      "outputs": [
        {
          "output_type": "stream",
          "name": "stdout",
          "text": [
            "(210, 2)\n",
            "(60, 2)\n",
            "(30, 2)\n"
          ]
        }
      ]
    },
    {
      "cell_type": "code",
      "source": [
        "# c) Standardize the input features\n",
        "normalizer = StandardScaler()\n",
        "\n",
        "X_train = normalizer.fit_transform(X_train)\n",
        "X_val = normalizer.transform(X_val)\n",
        "X_test = normalizer.transform(X_test)\n",
        "\n",
        "X_train = torch.tensor(X_train, dtype=torch.float32)\n",
        "X_val = torch.tensor(X_val, dtype=torch.float32)\n",
        "X_test = torch.tensor(X_test, dtype=torch.float32)\n",
        "\n",
        "y_train = torch.tensor(y_train, dtype=torch.long)\n",
        "y_val = torch.tensor(y_val, dtype=torch.long)\n",
        "y_test = torch.tensor(y_test, dtype=torch.long)"
      ],
      "metadata": {
        "id": "2Kk01k8253Wn"
      },
      "execution_count": 58,
      "outputs": []
    },
    {
      "cell_type": "markdown",
      "source": [
        "# 7.Build DataLoader"
      ],
      "metadata": {
        "id": "3bvt7XOu68CH"
      }
    },
    {
      "cell_type": "code",
      "source": [
        "# build PyTorch dataset class to store inputs, outputs\n",
        "class CustomDataset(Dataset):\n",
        "    def __init__(self, X, y):\n",
        "        self.X = X\n",
        "        self.y = y\n",
        "\n",
        "    def __len__(self):\n",
        "        return len(self.y)\n",
        "\n",
        "    def __getitem__(self, idx):\n",
        "        return self.X[idx], self.y[idx]\n",
        "\n",
        "# build DataLoader\n",
        "batch_size = 32\n",
        "\n",
        "train_dataset = CustomDataset(X_train, y_train)\n",
        "val_dataset = CustomDataset(X_val, y_val)\n",
        "test_dataset = CustomDataset(X_test, y_test)\n",
        "\n",
        "train_loader = DataLoader(train_dataset, batch_size=batch_size, shuffle=True)\n",
        "val_loader = DataLoader(val_dataset, batch_size=batch_size, shuffle=False)\n",
        "test_loader = DataLoader(test_dataset, batch_size=batch_size, shuffle=False)"
      ],
      "metadata": {
        "id": "frjdllMr6-Vu"
      },
      "execution_count": 59,
      "outputs": []
    },
    {
      "cell_type": "markdown",
      "source": [
        "# 8.Construct MLPs network"
      ],
      "metadata": {
        "id": "Br3MLZ6B8L6n"
      }
    },
    {
      "cell_type": "code",
      "source": [
        "class MLP(nn.Module):\n",
        "    def __init__(self, input_dims, hidden_dims, output_dims):\n",
        "        super().__init__()\n",
        "        self.linear1 = nn.Linear(input_dims, hidden_dims)\n",
        "        #self.linear2 = nn.Linear(hidden_dims, hidden_dims)\n",
        "        self.output = nn.Linear(hidden_dims, output_dims)\n",
        "        self.relu = nn.ReLU()\n",
        "        #self.tanh = nn.Tanh()\n",
        "\n",
        "    def forward(self, x):\n",
        "        x = self.linear1(x)\n",
        "        x = self.relu(x)\n",
        "        #x = self.tanh(x)\n",
        "        out = self.output(x)\n",
        "        return out.squeeze(1)"
      ],
      "metadata": {
        "id": "e-zh5VfP8RPG"
      },
      "execution_count": 60,
      "outputs": []
    },
    {
      "cell_type": "code",
      "source": [
        "input_dims = X_train.shape[1]\n",
        "output_dims = torch.unique(y_train).shape[0]\n",
        "hidden_dims = 512\n",
        "\n",
        "model = MLP(input_dims=input_dims, hidden_dims=hidden_dims, output_dims=output_dims).to(device)"
      ],
      "metadata": {
        "id": "XRaJS1r693S-"
      },
      "execution_count": 61,
      "outputs": []
    },
    {
      "cell_type": "markdown",
      "source": [
        "# 9.Declare loss and optimizer functions"
      ],
      "metadata": {
        "id": "ibZcArRN-bo9"
      }
    },
    {
      "cell_type": "code",
      "source": [
        "lr = 1e-1\n",
        "criterion = nn.CrossEntropyLoss()\n",
        "optimizer = torch.optim.SGD(model.parameters(), lr=lr)"
      ],
      "metadata": {
        "id": "R-3mjuJr-gDu"
      },
      "execution_count": 62,
      "outputs": []
    },
    {
      "cell_type": "markdown",
      "source": [
        "# 10.Build accuracy function"
      ],
      "metadata": {
        "id": "BNyAaoOp-__t"
      }
    },
    {
      "cell_type": "code",
      "source": [
        "def compute_accuracy(y_hat, y_true):\n",
        "    _, y_hat = torch.max(y_hat, dim=1)\n",
        "    correct = (y_hat == y_true).sum().item()\n",
        "    accuracy = correct / len(y_true)\n",
        "    return accuracy"
      ],
      "metadata": {
        "id": "FWhFdy0N_DCm"
      },
      "execution_count": 63,
      "outputs": []
    },
    {
      "cell_type": "markdown",
      "source": [
        "# 11.Train the MLP model"
      ],
      "metadata": {
        "id": "AnkAiyhW_bnV"
      }
    },
    {
      "cell_type": "code",
      "source": [
        "epochs = 100\n",
        "train_losses = []\n",
        "val_losses = []\n",
        "train_accs = []\n",
        "val_accs = []\n",
        "\n",
        "for epoch in range(epochs):\n",
        "    train_loss = 0.0\n",
        "    train_target = []\n",
        "    train_predict = []\n",
        "\n",
        "    model.train()\n",
        "\n",
        "    for X_samples, y_samples in train_loader:\n",
        "        X_samples = X_samples.to(device)\n",
        "        y_samples = y_samples.to(device)\n",
        "\n",
        "        optimizer.zero_grad()\n",
        "        outputs = model(X_samples)\n",
        "        loss = criterion(outputs, y_samples)\n",
        "        loss.backward()\n",
        "        optimizer.step()\n",
        "        train_loss += loss.item()\n",
        "\n",
        "        train_predict.append(outputs.detach().cpu())\n",
        "        train_target.append(y_samples.cpu())\n",
        "\n",
        "    train_loss = train_loss / len(train_loader)\n",
        "    train_losses.append(train_loss)\n",
        "\n",
        "    train_predict = torch.cat(train_predict)\n",
        "    train_target = torch.cat(train_target)\n",
        "    train_acc = compute_accuracy(train_predict, train_target)\n",
        "    train_accs.append(train_acc)\n",
        "\n",
        "    val_loss = 0.0\n",
        "    val_target = []\n",
        "    val_predict = []\n",
        "    model.eval()\n",
        "\n",
        "    with torch.no_grad():\n",
        "        for X_samples, y_samples in val_loader:\n",
        "            X_samples = X_samples.to(device)\n",
        "            y_samples = y_samples.to(device)\n",
        "            outputs = model(X_samples)\n",
        "\n",
        "            loss = criterion(outputs, y_samples)\n",
        "            val_loss += loss.item()\n",
        "\n",
        "            val_predict.append(outputs.cpu())\n",
        "            val_target.append(y_samples.cpu())\n",
        "\n",
        "    val_predict = torch.cat(val_predict)\n",
        "    val_target = torch.cat(val_target)\n",
        "    val_acc = compute_accuracy(val_predict, val_target)\n",
        "    val_accs.append(val_acc)\n",
        "\n",
        "\n",
        "    val_loss = val_loss / len(val_loader)\n",
        "    val_losses.append(val_loss)\n",
        "\n",
        "    print(f'\\nEPOCH {epoch+1}:\\tTraining loss: {train_loss:.3f}\\tValidation loss: {val_loss:.3f}')"
      ],
      "metadata": {
        "colab": {
          "base_uri": "https://localhost:8080/"
        },
        "id": "PbjZUodF_ePt",
        "outputId": "fb34ee3f-b179-4866-ce5d-e5fa635481c3"
      },
      "execution_count": 64,
      "outputs": [
        {
          "output_type": "stream",
          "name": "stdout",
          "text": [
            "\n",
            "EPOCH 1:\tTraining loss: 1.032\tValidation loss: 1.237\n",
            "\n",
            "EPOCH 2:\tTraining loss: 0.841\tValidation loss: 0.896\n",
            "\n",
            "EPOCH 3:\tTraining loss: 0.699\tValidation loss: 0.666\n",
            "\n",
            "EPOCH 4:\tTraining loss: 0.637\tValidation loss: 0.703\n",
            "\n",
            "EPOCH 5:\tTraining loss: 0.547\tValidation loss: 0.652\n",
            "\n",
            "EPOCH 6:\tTraining loss: 0.499\tValidation loss: 0.567\n",
            "\n",
            "EPOCH 7:\tTraining loss: 0.511\tValidation loss: 0.518\n",
            "\n",
            "EPOCH 8:\tTraining loss: 0.470\tValidation loss: 0.589\n",
            "\n",
            "EPOCH 9:\tTraining loss: 0.436\tValidation loss: 0.428\n",
            "\n",
            "EPOCH 10:\tTraining loss: 0.377\tValidation loss: 0.411\n",
            "\n",
            "EPOCH 11:\tTraining loss: 0.370\tValidation loss: 0.425\n",
            "\n",
            "EPOCH 12:\tTraining loss: 0.361\tValidation loss: 0.391\n",
            "\n",
            "EPOCH 13:\tTraining loss: 0.340\tValidation loss: 0.388\n",
            "\n",
            "EPOCH 14:\tTraining loss: 0.348\tValidation loss: 0.345\n",
            "\n",
            "EPOCH 15:\tTraining loss: 0.298\tValidation loss: 0.327\n",
            "\n",
            "EPOCH 16:\tTraining loss: 0.316\tValidation loss: 0.337\n",
            "\n",
            "EPOCH 17:\tTraining loss: 0.300\tValidation loss: 0.383\n",
            "\n",
            "EPOCH 18:\tTraining loss: 0.297\tValidation loss: 0.294\n",
            "\n",
            "EPOCH 19:\tTraining loss: 0.271\tValidation loss: 0.320\n",
            "\n",
            "EPOCH 20:\tTraining loss: 0.274\tValidation loss: 0.283\n",
            "\n",
            "EPOCH 21:\tTraining loss: 0.263\tValidation loss: 0.301\n",
            "\n",
            "EPOCH 22:\tTraining loss: 0.251\tValidation loss: 0.291\n",
            "\n",
            "EPOCH 23:\tTraining loss: 0.261\tValidation loss: 0.271\n",
            "\n",
            "EPOCH 24:\tTraining loss: 0.249\tValidation loss: 0.265\n",
            "\n",
            "EPOCH 25:\tTraining loss: 0.230\tValidation loss: 0.246\n",
            "\n",
            "EPOCH 26:\tTraining loss: 0.239\tValidation loss: 0.243\n",
            "\n",
            "EPOCH 27:\tTraining loss: 0.240\tValidation loss: 0.243\n",
            "\n",
            "EPOCH 28:\tTraining loss: 0.220\tValidation loss: 0.229\n",
            "\n",
            "EPOCH 29:\tTraining loss: 0.219\tValidation loss: 0.231\n",
            "\n",
            "EPOCH 30:\tTraining loss: 0.206\tValidation loss: 0.242\n",
            "\n",
            "EPOCH 31:\tTraining loss: 0.214\tValidation loss: 0.246\n",
            "\n",
            "EPOCH 32:\tTraining loss: 0.221\tValidation loss: 0.245\n",
            "\n",
            "EPOCH 33:\tTraining loss: 0.206\tValidation loss: 0.215\n",
            "\n",
            "EPOCH 34:\tTraining loss: 0.189\tValidation loss: 0.219\n",
            "\n",
            "EPOCH 35:\tTraining loss: 0.193\tValidation loss: 0.228\n",
            "\n",
            "EPOCH 36:\tTraining loss: 0.193\tValidation loss: 0.220\n",
            "\n",
            "EPOCH 37:\tTraining loss: 0.185\tValidation loss: 0.196\n",
            "\n",
            "EPOCH 38:\tTraining loss: 0.177\tValidation loss: 0.205\n",
            "\n",
            "EPOCH 39:\tTraining loss: 0.175\tValidation loss: 0.214\n",
            "\n",
            "EPOCH 40:\tTraining loss: 0.167\tValidation loss: 0.198\n",
            "\n",
            "EPOCH 41:\tTraining loss: 0.172\tValidation loss: 0.198\n",
            "\n",
            "EPOCH 42:\tTraining loss: 0.162\tValidation loss: 0.186\n",
            "\n",
            "EPOCH 43:\tTraining loss: 0.178\tValidation loss: 0.180\n",
            "\n",
            "EPOCH 44:\tTraining loss: 0.170\tValidation loss: 0.179\n",
            "\n",
            "EPOCH 45:\tTraining loss: 0.166\tValidation loss: 0.177\n",
            "\n",
            "EPOCH 46:\tTraining loss: 0.166\tValidation loss: 0.177\n",
            "\n",
            "EPOCH 47:\tTraining loss: 0.160\tValidation loss: 0.174\n",
            "\n",
            "EPOCH 48:\tTraining loss: 0.156\tValidation loss: 0.175\n",
            "\n",
            "EPOCH 49:\tTraining loss: 0.153\tValidation loss: 0.207\n",
            "\n",
            "EPOCH 50:\tTraining loss: 0.155\tValidation loss: 0.177\n",
            "\n",
            "EPOCH 51:\tTraining loss: 0.156\tValidation loss: 0.183\n",
            "\n",
            "EPOCH 52:\tTraining loss: 0.147\tValidation loss: 0.180\n",
            "\n",
            "EPOCH 53:\tTraining loss: 0.148\tValidation loss: 0.179\n",
            "\n",
            "EPOCH 54:\tTraining loss: 0.144\tValidation loss: 0.174\n",
            "\n",
            "EPOCH 55:\tTraining loss: 0.142\tValidation loss: 0.168\n",
            "\n",
            "EPOCH 56:\tTraining loss: 0.135\tValidation loss: 0.174\n",
            "\n",
            "EPOCH 57:\tTraining loss: 0.156\tValidation loss: 0.164\n",
            "\n",
            "EPOCH 58:\tTraining loss: 0.138\tValidation loss: 0.172\n",
            "\n",
            "EPOCH 59:\tTraining loss: 0.134\tValidation loss: 0.177\n",
            "\n",
            "EPOCH 60:\tTraining loss: 0.137\tValidation loss: 0.166\n",
            "\n",
            "EPOCH 61:\tTraining loss: 0.134\tValidation loss: 0.160\n",
            "\n",
            "EPOCH 62:\tTraining loss: 0.133\tValidation loss: 0.155\n",
            "\n",
            "EPOCH 63:\tTraining loss: 0.136\tValidation loss: 0.153\n",
            "\n",
            "EPOCH 64:\tTraining loss: 0.132\tValidation loss: 0.147\n",
            "\n",
            "EPOCH 65:\tTraining loss: 0.130\tValidation loss: 0.163\n",
            "\n",
            "EPOCH 66:\tTraining loss: 0.126\tValidation loss: 0.155\n",
            "\n",
            "EPOCH 67:\tTraining loss: 0.126\tValidation loss: 0.152\n",
            "\n",
            "EPOCH 68:\tTraining loss: 0.125\tValidation loss: 0.154\n",
            "\n",
            "EPOCH 69:\tTraining loss: 0.126\tValidation loss: 0.142\n",
            "\n",
            "EPOCH 70:\tTraining loss: 0.132\tValidation loss: 0.156\n",
            "\n",
            "EPOCH 71:\tTraining loss: 0.130\tValidation loss: 0.140\n",
            "\n",
            "EPOCH 72:\tTraining loss: 0.126\tValidation loss: 0.139\n",
            "\n",
            "EPOCH 73:\tTraining loss: 0.126\tValidation loss: 0.139\n",
            "\n",
            "EPOCH 74:\tTraining loss: 0.121\tValidation loss: 0.171\n",
            "\n",
            "EPOCH 75:\tTraining loss: 0.126\tValidation loss: 0.141\n",
            "\n",
            "EPOCH 76:\tTraining loss: 0.116\tValidation loss: 0.154\n",
            "\n",
            "EPOCH 77:\tTraining loss: 0.122\tValidation loss: 0.158\n",
            "\n",
            "EPOCH 78:\tTraining loss: 0.116\tValidation loss: 0.150\n",
            "\n",
            "EPOCH 79:\tTraining loss: 0.116\tValidation loss: 0.142\n",
            "\n",
            "EPOCH 80:\tTraining loss: 0.120\tValidation loss: 0.144\n",
            "\n",
            "EPOCH 81:\tTraining loss: 0.113\tValidation loss: 0.136\n",
            "\n",
            "EPOCH 82:\tTraining loss: 0.113\tValidation loss: 0.146\n",
            "\n",
            "EPOCH 83:\tTraining loss: 0.120\tValidation loss: 0.138\n",
            "\n",
            "EPOCH 84:\tTraining loss: 0.127\tValidation loss: 0.151\n",
            "\n",
            "EPOCH 85:\tTraining loss: 0.121\tValidation loss: 0.133\n",
            "\n",
            "EPOCH 86:\tTraining loss: 0.117\tValidation loss: 0.139\n",
            "\n",
            "EPOCH 87:\tTraining loss: 0.104\tValidation loss: 0.131\n",
            "\n",
            "EPOCH 88:\tTraining loss: 0.111\tValidation loss: 0.142\n",
            "\n",
            "EPOCH 89:\tTraining loss: 0.106\tValidation loss: 0.143\n",
            "\n",
            "EPOCH 90:\tTraining loss: 0.106\tValidation loss: 0.127\n",
            "\n",
            "EPOCH 91:\tTraining loss: 0.112\tValidation loss: 0.129\n",
            "\n",
            "EPOCH 92:\tTraining loss: 0.105\tValidation loss: 0.129\n",
            "\n",
            "EPOCH 93:\tTraining loss: 0.102\tValidation loss: 0.137\n",
            "\n",
            "EPOCH 94:\tTraining loss: 0.101\tValidation loss: 0.130\n",
            "\n",
            "EPOCH 95:\tTraining loss: 0.112\tValidation loss: 0.118\n",
            "\n",
            "EPOCH 96:\tTraining loss: 0.112\tValidation loss: 0.123\n",
            "\n",
            "EPOCH 97:\tTraining loss: 0.100\tValidation loss: 0.127\n",
            "\n",
            "EPOCH 98:\tTraining loss: 0.112\tValidation loss: 0.125\n",
            "\n",
            "EPOCH 99:\tTraining loss: 0.106\tValidation loss: 0.125\n",
            "\n",
            "EPOCH 100:\tTraining loss: 0.102\tValidation loss: 0.121\n"
          ]
        }
      ]
    },
    {
      "cell_type": "code",
      "source": [
        "# data visualization\n",
        "fig, ax = plt.subplots(2, 2, figsize = (12,10))\n",
        "\n",
        "ax[0,0].plot(train_losses)\n",
        "ax[0,0].set(xlabel='Epoch', ylabel='Loss')\n",
        "ax[0,0].set_title('Training Loss')\n",
        "\n",
        "ax[0,1].plot(val_losses, 'orange')\n",
        "ax[0,1].set(xlabel='Epoch', ylabel='Loss')\n",
        "ax[0,1].set_title('Validation Loss')\n",
        "\n",
        "ax[1,0].plot(train_accs)\n",
        "ax[1,0].set(xlabel='Epoch', ylabel='Accuracy')\n",
        "ax[1,0].set_title('Training Accuracy')\n",
        "\n",
        "ax[1,1].plot(val_accs, 'orange')\n",
        "ax[1,1].set(xlabel='Epoch', ylabel='Accuracy')\n",
        "ax[1,1].set_title('Validation Accuracy')\n",
        "\n",
        "plt.show()"
      ],
      "metadata": {
        "colab": {
          "base_uri": "https://localhost:8080/",
          "height": 748
        },
        "id": "q3DpBy_fCsQG",
        "outputId": "16419e30-bf47-4aa3-c92e-3a64d9ff56e1"
      },
      "execution_count": 65,
      "outputs": [
        {
          "output_type": "display_data",
          "data": {
            "text/plain": [
              "<Figure size 1200x1000 with 4 Axes>"
            ],
            "image/png": "[encoded data removed]"
          },
          "metadata": {}
        }
      ]
    },
    {
      "cell_type": "markdown",
      "source": [
        "# 12.Evaluate model on test dataset"
      ],
      "metadata": {
        "id": "boZDjR5HBuQN"
      }
    },
    {
      "cell_type": "code",
      "source": [
        "test_target = []\n",
        "test_predict = []\n",
        "model.eval()\n",
        "\n",
        "with torch.no_grad():\n",
        "    for X_samples, y_samples in test_loader:\n",
        "        X_samples = X_samples.to(device)\n",
        "        y_samples = y_samples.to(device)\n",
        "        outputs = model(X_samples)\n",
        "\n",
        "        test_predict.append(outputs.cpu())\n",
        "        test_target.append(y_samples.cpu())\n",
        "\n",
        "    test_predict = torch.cat(test_predict)\n",
        "    test_target = torch.cat(test_target)\n",
        "    test_acc = compute_accuracy(test_predict, test_target)\n",
        "\n",
        "    print('Evaluation on test set :')\n",
        "    print(f'Test Accuracy: {test_acc}')"
      ],
      "metadata": {
        "colab": {
          "base_uri": "https://localhost:8080/"
        },
        "id": "TWpv-omrBx08",
        "outputId": "17ee36bd-f0fb-4e92-c461-1fe1f425d1d4"
      },
      "execution_count": 66,
      "outputs": [
        {
          "output_type": "stream",
          "name": "stdout",
          "text": [
            "Evaluation on test set :\n",
            "Test Accuracy: 0.9333333333333333\n"
          ]
        }
      ]
    }
  ]
}