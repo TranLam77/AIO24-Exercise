{
  "nbformat": 4,
  "nbformat_minor": 0,
  "metadata": {
    "colab": {
      "provenance": [],
      "toc_visible": true
    },
    "kernelspec": {
      "name": "python3",
      "display_name": "Python 3"
    },
    "language_info": {
      "name": "python"
    }
  },
  "cells": [
    {
      "cell_type": "markdown",
      "source": [
        "# 1.Load dataset"
      ],
      "metadata": {
        "id": "CyripThi2p6B"
      }
    },
    {
      "cell_type": "code",
      "execution_count": 59,
      "metadata": {
        "colab": {
          "base_uri": "https://localhost:8080/"
        },
        "id": "IEYz60_016zY",
        "outputId": "db8faf8b-895d-48bc-a954-3ad162f01110"
      },
      "outputs": [
        {
          "output_type": "stream",
          "name": "stdout",
          "text": [
            "/usr/local/lib/python3.10/dist-packages/gdown/__main__.py:140: FutureWarning: Option `--id` was deprecated in version 4.3.1 and will be removed in 5.0. You don't need to pass it anymore to use a file ID.\n",
            "  warnings.warn(\n",
            "Downloading...\n",
            "From: https://drive.google.com/uc?id=1qiUDDoYyRLBiKOoYWdFl_5WByHE8Cugu\n",
            "To: /content/Auto_MPG_data.csv\n",
            "100% 15.4k/15.4k [00:00<00:00, 28.2MB/s]\n"
          ]
        }
      ],
      "source": [
        "! gdown --id 1qiUDDoYyRLBiKOoYWdFl_5WByHE8Cugu"
      ]
    },
    {
      "cell_type": "markdown",
      "source": [
        "# 2.Import neccessary libraries"
      ],
      "metadata": {
        "id": "nHGzjr9M3Cte"
      }
    },
    {
      "cell_type": "code",
      "source": [
        "import numpy as np\n",
        "import pandas as pd\n",
        "import matplotlib.pyplot as plt\n",
        "\n",
        "import torch\n",
        "import torch.nn as nn\n",
        "import torch.nn.functional as F\n",
        "from torch.utils.data import Dataset, DataLoader\n",
        "\n",
        "from sklearn.model_selection import train_test_split\n",
        "from sklearn.preprocessing import StandardScaler"
      ],
      "metadata": {
        "id": "fWgv_1qq3F6u"
      },
      "execution_count": 60,
      "outputs": []
    },
    {
      "cell_type": "markdown",
      "source": [
        "# 3.Set a fix random state"
      ],
      "metadata": {
        "id": "gJ7iavfg3T33"
      }
    },
    {
      "cell_type": "code",
      "source": [
        "random_state = 59\n",
        "np.random.seed(random_state)\n",
        "torch.manual_seed(random_state)\n",
        "\n",
        "if torch.cuda.is_available():\n",
        "    torch.cuda.manual_seed(random_state)"
      ],
      "metadata": {
        "id": "jLR6N15N3f5x"
      },
      "execution_count": 61,
      "outputs": []
    },
    {
      "cell_type": "markdown",
      "source": [
        "# 4.Setup the computation device"
      ],
      "metadata": {
        "id": "HNnPo8Dy39Xn"
      }
    },
    {
      "cell_type": "code",
      "source": [
        "device = torch.device('cuda' if torch.cuda.is_available() else 'cpu')"
      ],
      "metadata": {
        "id": "DR_NwAbk4IVI"
      },
      "execution_count": 62,
      "outputs": []
    },
    {
      "cell_type": "markdown",
      "source": [
        "# 5.Read dataset"
      ],
      "metadata": {
        "id": "nakwoBUi4UJn"
      }
    },
    {
      "cell_type": "code",
      "source": [
        "dataset_path = '/content/Auto_MPG_data.csv'\n",
        "dataset = pd.read_csv(dataset_path)"
      ],
      "metadata": {
        "id": "Sd-Bjvfj4Vz_"
      },
      "execution_count": 63,
      "outputs": []
    },
    {
      "cell_type": "code",
      "source": [
        "dataset.head()\n",
        "dataset.info()\n",
        "dataset.describe()"
      ],
      "metadata": {
        "colab": {
          "base_uri": "https://localhost:8080/",
          "height": 632
        },
        "id": "8zSdBsPg4hfG",
        "outputId": "dd698801-1a2c-4f47-e1ba-b1c9f3a9f71e"
      },
      "execution_count": 64,
      "outputs": [
        {
          "output_type": "stream",
          "name": "stdout",
          "text": [
            "<class 'pandas.core.frame.DataFrame'>\n",
            "RangeIndex: 392 entries, 0 to 391\n",
            "Data columns (total 10 columns):\n",
            " #   Column        Non-Null Count  Dtype  \n",
            "---  ------        --------------  -----  \n",
            " 0   MPG           392 non-null    float64\n",
            " 1   Cylinders     392 non-null    int64  \n",
            " 2   Displacement  392 non-null    float64\n",
            " 3   Horsepower    392 non-null    float64\n",
            " 4   Weight        392 non-null    float64\n",
            " 5   Acceleration  392 non-null    float64\n",
            " 6   Model Year    392 non-null    int64  \n",
            " 7   Europe        392 non-null    int64  \n",
            " 8   Japan         392 non-null    int64  \n",
            " 9   USA           392 non-null    int64  \n",
            "dtypes: float64(5), int64(5)\n",
            "memory usage: 30.8 KB\n"
          ]
        },
        {
          "output_type": "execute_result",
          "data": {
            "text/plain": [
              "              MPG   Cylinders  Displacement  ...      Europe       Japan         USA\n",
              "count  392.000000  392.000000    392.000000  ...  392.000000  392.000000  392.000000\n",
              "mean    23.445918    5.471939    194.411990  ...    0.173469    0.201531    0.625000\n",
              "std      7.805007    1.705783    104.644004  ...    0.379136    0.401656    0.484742\n",
              "min      9.000000    3.000000     68.000000  ...    0.000000    0.000000    0.000000\n",
              "25%     17.000000    4.000000    105.000000  ...    0.000000    0.000000    0.000000\n",
              "50%     22.750000    4.000000    151.000000  ...    0.000000    0.000000    1.000000\n",
              "75%     29.000000    8.000000    275.750000  ...    0.000000    0.000000    1.000000\n",
              "max     46.600000    8.000000    455.000000  ...    1.000000    1.000000    1.000000\n",
              "\n",
              "[8 rows x 10 columns]"
            ],
            "text/html": [
              "\n",
              "  <div id=\"df-0d72b625-f6fa-42e8-a5ab-009cb4abedd6\" class=\"colab-df-container\">\n",
              "    <div>\n",
              "<style scoped>\n",
              "    .dataframe tbody tr th:only-of-type {\n",
              "        vertical-align: middle;\n",
              "    }\n",
              "\n",
              "    .dataframe tbody tr th {\n",
              "        vertical-align: top;\n",
              "    }\n",
              "\n",
              "    .dataframe thead th {\n",
              "        text-align: right;\n",
              "    }\n",
              "</style>\n",
              "<table border=\"1\" class=\"dataframe\">\n",
              "  <thead>\n",
              "    <tr style=\"text-align: right;\">\n",
              "      <th></th>\n",
              "      <th>MPG</th>\n",
              "      <th>Cylinders</th>\n",
              "      <th>Displacement</th>\n",
              "      <th>Horsepower</th>\n",
              "      <th>Weight</th>\n",
              "      <th>Acceleration</th>\n",
              "      <th>Model Year</th>\n",
              "      <th>Europe</th>\n",
              "      <th>Japan</th>\n",
              "      <th>USA</th>\n",
              "    </tr>\n",
              "  </thead>\n",
              "  <tbody>\n",
              "    <tr>\n",
              "      <th>count</th>\n",
              "      <td>392.000000</td>\n",
              "      <td>392.000000</td>\n",
              "      <td>392.000000</td>\n",
              "      <td>392.000000</td>\n",
              "      <td>392.000000</td>\n",
              "      <td>392.000000</td>\n",
              "      <td>392.000000</td>\n",
              "      <td>392.000000</td>\n",
              "      <td>392.000000</td>\n",
              "      <td>392.000000</td>\n",
              "    </tr>\n",
              "    <tr>\n",
              "      <th>mean</th>\n",
              "      <td>23.445918</td>\n",
              "      <td>5.471939</td>\n",
              "      <td>194.411990</td>\n",
              "      <td>104.469388</td>\n",
              "      <td>2977.584184</td>\n",
              "      <td>15.541327</td>\n",
              "      <td>75.979592</td>\n",
              "      <td>0.173469</td>\n",
              "      <td>0.201531</td>\n",
              "      <td>0.625000</td>\n",
              "    </tr>\n",
              "    <tr>\n",
              "      <th>std</th>\n",
              "      <td>7.805007</td>\n",
              "      <td>1.705783</td>\n",
              "      <td>104.644004</td>\n",
              "      <td>38.491160</td>\n",
              "      <td>849.402560</td>\n",
              "      <td>2.758864</td>\n",
              "      <td>3.683737</td>\n",
              "      <td>0.379136</td>\n",
              "      <td>0.401656</td>\n",
              "      <td>0.484742</td>\n",
              "    </tr>\n",
              "    <tr>\n",
              "      <th>min</th>\n",
              "      <td>9.000000</td>\n",
              "      <td>3.000000</td>\n",
              "      <td>68.000000</td>\n",
              "      <td>46.000000</td>\n",
              "      <td>1613.000000</td>\n",
              "      <td>8.000000</td>\n",
              "      <td>70.000000</td>\n",
              "      <td>0.000000</td>\n",
              "      <td>0.000000</td>\n",
              "      <td>0.000000</td>\n",
              "    </tr>\n",
              "    <tr>\n",
              "      <th>25%</th>\n",
              "      <td>17.000000</td>\n",
              "      <td>4.000000</td>\n",
              "      <td>105.000000</td>\n",
              "      <td>75.000000</td>\n",
              "      <td>2225.250000</td>\n",
              "      <td>13.775000</td>\n",
              "      <td>73.000000</td>\n",
              "      <td>0.000000</td>\n",
              "      <td>0.000000</td>\n",
              "      <td>0.000000</td>\n",
              "    </tr>\n",
              "    <tr>\n",
              "      <th>50%</th>\n",
              "      <td>22.750000</td>\n",
              "      <td>4.000000</td>\n",
              "      <td>151.000000</td>\n",
              "      <td>93.500000</td>\n",
              "      <td>2803.500000</td>\n",
              "      <td>15.500000</td>\n",
              "      <td>76.000000</td>\n",
              "      <td>0.000000</td>\n",
              "      <td>0.000000</td>\n",
              "      <td>1.000000</td>\n",
              "    </tr>\n",
              "    <tr>\n",
              "      <th>75%</th>\n",
              "      <td>29.000000</td>\n",
              "      <td>8.000000</td>\n",
              "      <td>275.750000</td>\n",
              "      <td>126.000000</td>\n",
              "      <td>3614.750000</td>\n",
              "      <td>17.025000</td>\n",
              "      <td>79.000000</td>\n",
              "      <td>0.000000</td>\n",
              "      <td>0.000000</td>\n",
              "      <td>1.000000</td>\n",
              "    </tr>\n",
              "    <tr>\n",
              "      <th>max</th>\n",
              "      <td>46.600000</td>\n",
              "      <td>8.000000</td>\n",
              "      <td>455.000000</td>\n",
              "      <td>230.000000</td>\n",
              "      <td>5140.000000</td>\n",
              "      <td>24.800000</td>\n",
              "      <td>82.000000</td>\n",
              "      <td>1.000000</td>\n",
              "      <td>1.000000</td>\n",
              "      <td>1.000000</td>\n",
              "    </tr>\n",
              "  </tbody>\n",
              "</table>\n",
              "</div>\n",
              "    <div class=\"colab-df-buttons\">\n",
              "\n",
              "  <div class=\"colab-df-container\">\n",
              "    <button class=\"colab-df-convert\" onclick=\"convertToInteractive('df-0d72b625-f6fa-42e8-a5ab-009cb4abedd6')\"\n",
              "            title=\"Convert this dataframe to an interactive table.\"\n",
              "            style=\"display:none;\">\n",
              "\n",
              "  <svg xmlns=\"http://www.w3.org/2000/svg\" height=\"24px\" viewBox=\"0 -960 960 960\">\n",
              "    <path d=\"M120-120v-720h720v720H120Zm60-500h600v-160H180v160Zm220 220h160v-160H400v160Zm0 220h160v-160H400v160ZM180-400h160v-160H180v160Zm440 0h160v-160H620v160ZM180-180h160v-160H180v160Zm440 0h160v-160H620v160Z\"/>\n",
              "  </svg>\n",
              "    </button>\n",
              "\n",
              "  <style>\n",
              "    .colab-df-container {\n",
              "      display:flex;\n",
              "      gap: 12px;\n",
              "    }\n",
              "\n",
              "    .colab-df-convert {\n",
              "      background-color: #E8F0FE;\n",
              "      border: none;\n",
              "      border-radius: 50%;\n",
              "      cursor: pointer;\n",
              "      display: none;\n",
              "      fill: #1967D2;\n",
              "      height: 32px;\n",
              "      padding: 0 0 0 0;\n",
              "      width: 32px;\n",
              "    }\n",
              "\n",
              "    .colab-df-convert:hover {\n",
              "      background-color: #E2EBFA;\n",
              "      box-shadow: 0px 1px 2px rgba(60, 64, 67, 0.3), 0px 1px 3px 1px rgba(60, 64, 67, 0.15);\n",
              "      fill: #174EA6;\n",
              "    }\n",
              "\n",
              "    .colab-df-buttons div {\n",
              "      margin-bottom: 4px;\n",
              "    }\n",
              "\n",
              "    [theme=dark] .colab-df-convert {\n",
              "      background-color: #3B4455;\n",
              "      fill: #D2E3FC;\n",
              "    }\n",
              "\n",
              "    [theme=dark] .colab-df-convert:hover {\n",
              "      background-color: #434B5C;\n",
              "      box-shadow: 0px 1px 3px 1px rgba(0, 0, 0, 0.15);\n",
              "      filter: drop-shadow(0px 1px 2px rgba(0, 0, 0, 0.3));\n",
              "      fill: #FFFFFF;\n",
              "    }\n",
              "  </style>\n",
              "\n",
              "    <script>\n",
              "      const buttonEl =\n",
              "        document.querySelector('#df-0d72b625-f6fa-42e8-a5ab-009cb4abedd6 button.colab-df-convert');\n",
              "      buttonEl.style.display =\n",
              "        google.colab.kernel.accessAllowed ? 'block' : 'none';\n",
              "\n",
              "      async function convertToInteractive(key) {\n",
              "        const element = document.querySelector('#df-0d72b625-f6fa-42e8-a5ab-009cb4abedd6');\n",
              "        const dataTable =\n",
              "          await google.colab.kernel.invokeFunction('convertToInteractive',\n",
              "                                                    [key], {});\n",
              "        if (!dataTable) return;\n",
              "\n",
              "        const docLinkHtml = 'Like what you see? Visit the ' +\n",
              "          '<a target=\"_blank\" href=https://colab.research.google.com/notebooks/data_table.ipynb>data table notebook</a>'\n",
              "          + ' to learn more about interactive tables.';\n",
              "        element.innerHTML = '';\n",
              "        dataTable['output_type'] = 'display_data';\n",
              "        await google.colab.output.renderOutput(dataTable, element);\n",
              "        const docLink = document.createElement('div');\n",
              "        docLink.innerHTML = docLinkHtml;\n",
              "        element.appendChild(docLink);\n",
              "      }\n",
              "    </script>\n",
              "  </div>\n",
              "\n",
              "\n",
              "<div id=\"df-eaf758a6-9e60-4a97-aac7-f26bc4144810\">\n",
              "  <button class=\"colab-df-quickchart\" onclick=\"quickchart('df-eaf758a6-9e60-4a97-aac7-f26bc4144810')\"\n",
              "            title=\"Suggest charts\"\n",
              "            style=\"display:none;\">\n",
              "\n",
              "<svg xmlns=\"http://www.w3.org/2000/svg\" height=\"24px\"viewBox=\"0 0 24 24\"\n",
              "     width=\"24px\">\n",
              "    <g>\n",
              "        <path d=\"M19 3H5c-1.1 0-2 .9-2 2v14c0 1.1.9 2 2 2h14c1.1 0 2-.9 2-2V5c0-1.1-.9-2-2-2zM9 17H7v-7h2v7zm4 0h-2V7h2v10zm4 0h-2v-4h2v4z\"/>\n",
              "    </g>\n",
              "</svg>\n",
              "  </button>\n",
              "\n",
              "<style>\n",
              "  .colab-df-quickchart {\n",
              "      --bg-color: #E8F0FE;\n",
              "      --fill-color: #1967D2;\n",
              "      --hover-bg-color: #E2EBFA;\n",
              "      --hover-fill-color: #174EA6;\n",
              "      --disabled-fill-color: #AAA;\n",
              "      --disabled-bg-color: #DDD;\n",
              "  }\n",
              "\n",
              "  [theme=dark] .colab-df-quickchart {\n",
              "      --bg-color: #3B4455;\n",
              "      --fill-color: #D2E3FC;\n",
              "      --hover-bg-color: #434B5C;\n",
              "      --hover-fill-color: #FFFFFF;\n",
              "      --disabled-bg-color: #3B4455;\n",
              "      --disabled-fill-color: #666;\n",
              "  }\n",
              "\n",
              "  .colab-df-quickchart {\n",
              "    background-color: var(--bg-color);\n",
              "    border: none;\n",
              "    border-radius: 50%;\n",
              "    cursor: pointer;\n",
              "    display: none;\n",
              "    fill: var(--fill-color);\n",
              "    height: 32px;\n",
              "    padding: 0;\n",
              "    width: 32px;\n",
              "  }\n",
              "\n",
              "  .colab-df-quickchart:hover {\n",
              "    background-color: var(--hover-bg-color);\n",
              "    box-shadow: 0 1px 2px rgba(60, 64, 67, 0.3), 0 1px 3px 1px rgba(60, 64, 67, 0.15);\n",
              "    fill: var(--button-hover-fill-color);\n",
              "  }\n",
              "\n",
              "  .colab-df-quickchart-complete:disabled,\n",
              "  .colab-df-quickchart-complete:disabled:hover {\n",
              "    background-color: var(--disabled-bg-color);\n",
              "    fill: var(--disabled-fill-color);\n",
              "    box-shadow: none;\n",
              "  }\n",
              "\n",
              "  .colab-df-spinner {\n",
              "    border: 2px solid var(--fill-color);\n",
              "    border-color: transparent;\n",
              "    border-bottom-color: var(--fill-color);\n",
              "    animation:\n",
              "      spin 1s steps(1) infinite;\n",
              "  }\n",
              "\n",
              "  @keyframes spin {\n",
              "    0% {\n",
              "      border-color: transparent;\n",
              "      border-bottom-color: var(--fill-color);\n",
              "      border-left-color: var(--fill-color);\n",
              "    }\n",
              "    20% {\n",
              "      border-color: transparent;\n",
              "      border-left-color: var(--fill-color);\n",
              "      border-top-color: var(--fill-color);\n",
              "    }\n",
              "    30% {\n",
              "      border-color: transparent;\n",
              "      border-left-color: var(--fill-color);\n",
              "      border-top-color: var(--fill-color);\n",
              "      border-right-color: var(--fill-color);\n",
              "    }\n",
              "    40% {\n",
              "      border-color: transparent;\n",
              "      border-right-color: var(--fill-color);\n",
              "      border-top-color: var(--fill-color);\n",
              "    }\n",
              "    60% {\n",
              "      border-color: transparent;\n",
              "      border-right-color: var(--fill-color);\n",
              "    }\n",
              "    80% {\n",
              "      border-color: transparent;\n",
              "      border-right-color: var(--fill-color);\n",
              "      border-bottom-color: var(--fill-color);\n",
              "    }\n",
              "    90% {\n",
              "      border-color: transparent;\n",
              "      border-bottom-color: var(--fill-color);\n",
              "    }\n",
              "  }\n",
              "</style>\n",
              "\n",
              "  <script>\n",
              "    async function quickchart(key) {\n",
              "      const quickchartButtonEl =\n",
              "        document.querySelector('#' + key + ' button');\n",
              "      quickchartButtonEl.disabled = true;  // To prevent multiple clicks.\n",
              "      quickchartButtonEl.classList.add('colab-df-spinner');\n",
              "      try {\n",
              "        const charts = await google.colab.kernel.invokeFunction(\n",
              "            'suggestCharts', [key], {});\n",
              "      } catch (error) {\n",
              "        console.error('Error during call to suggestCharts:', error);\n",
              "      }\n",
              "      quickchartButtonEl.classList.remove('colab-df-spinner');\n",
              "      quickchartButtonEl.classList.add('colab-df-quickchart-complete');\n",
              "    }\n",
              "    (() => {\n",
              "      let quickchartButtonEl =\n",
              "        document.querySelector('#df-eaf758a6-9e60-4a97-aac7-f26bc4144810 button');\n",
              "      quickchartButtonEl.style.display =\n",
              "        google.colab.kernel.accessAllowed ? 'block' : 'none';\n",
              "    })();\n",
              "  </script>\n",
              "</div>\n",
              "\n",
              "    </div>\n",
              "  </div>\n"
            ],
            "application/vnd.google.colaboratory.intrinsic+json": {
              "type": "dataframe",
              "summary": "{\n  \"name\": \"dataset\",\n  \"rows\": 8,\n  \"fields\": [\n    {\n      \"column\": \"MPG\",\n      \"properties\": {\n        \"dtype\": \"number\",\n        \"std\": 131.3073847234828,\n        \"min\": 7.805007486571799,\n        \"max\": 392.0,\n        \"num_unique_values\": 8,\n        \"samples\": [\n          23.445918367346938,\n          22.75,\n          392.0\n        ],\n        \"semantic_type\": \"\",\n        \"description\": \"\"\n      }\n    },\n    {\n      \"column\": \"Cylinders\",\n      \"properties\": {\n        \"dtype\": \"number\",\n        \"std\": 136.88494671848898,\n        \"min\": 1.7057832474527843,\n        \"max\": 392.0,\n        \"num_unique_values\": 6,\n        \"samples\": [\n          392.0,\n          5.471938775510204,\n          8.0\n        ],\n        \"semantic_type\": \"\",\n        \"description\": \"\"\n      }\n    },\n    {\n      \"column\": \"Displacement\",\n      \"properties\": {\n        \"dtype\": \"number\",\n        \"std\": 142.90038032216435,\n        \"min\": 68.0,\n        \"max\": 455.0,\n        \"num_unique_values\": 8,\n        \"samples\": [\n          194.41198979591837,\n          151.0,\n          392.0\n        ],\n        \"semantic_type\": \"\",\n        \"description\": \"\"\n      }\n    },\n    {\n      \"column\": \"Horsepower\",\n      \"properties\": {\n        \"dtype\": \"number\",\n        \"std\": 118.66115898346133,\n        \"min\": 38.49115993282855,\n        \"max\": 392.0,\n        \"num_unique_values\": 8,\n        \"samples\": [\n          104.46938775510205,\n          93.5,\n          392.0\n        ],\n        \"semantic_type\": \"\",\n        \"description\": \"\"\n      }\n    },\n    {\n      \"column\": \"Weight\",\n      \"properties\": {\n        \"dtype\": \"number\",\n        \"std\": 1537.3621950208644,\n        \"min\": 392.0,\n        \"max\": 5140.0,\n        \"num_unique_values\": 8,\n        \"samples\": [\n          2977.5841836734694,\n          2803.5,\n          392.0\n        ],\n        \"semantic_type\": \"\",\n        \"description\": \"\"\n      }\n    },\n    {\n      \"column\": \"Acceleration\",\n      \"properties\": {\n        \"dtype\": \"number\",\n        \"std\": 133.82983176169847,\n        \"min\": 2.7588641191880816,\n        \"max\": 392.0,\n        \"num_unique_values\": 8,\n        \"samples\": [\n          15.541326530612244,\n          15.5,\n          392.0\n        ],\n        \"semantic_type\": \"\",\n        \"description\": \"\"\n      }\n    },\n    {\n      \"column\": \"Model Year\",\n      \"properties\": {\n        \"dtype\": \"number\",\n        \"std\": 118.17309651349842,\n        \"min\": 3.6837365435778318,\n        \"max\": 392.0,\n        \"num_unique_values\": 8,\n        \"samples\": [\n          75.9795918367347,\n          76.0,\n          392.0\n        ],\n        \"semantic_type\": \"\",\n        \"description\": \"\"\n      }\n    },\n    {\n      \"column\": \"Europe\",\n      \"properties\": {\n        \"dtype\": \"number\",\n        \"std\": 138.51493841048205,\n        \"min\": 0.0,\n        \"max\": 392.0,\n        \"num_unique_values\": 5,\n        \"samples\": [\n          0.17346938775510204,\n          1.0,\n          0.37913645868402096\n        ],\n        \"semantic_type\": \"\",\n        \"description\": \"\"\n      }\n    },\n    {\n      \"column\": \"Japan\",\n      \"properties\": {\n        \"dtype\": \"number\",\n        \"std\": 138.51238643648296,\n        \"min\": 0.0,\n        \"max\": 392.0,\n        \"num_unique_values\": 5,\n        \"samples\": [\n          0.20153061224489796,\n          1.0,\n          0.4016560400492748\n        ],\n        \"semantic_type\": \"\",\n        \"description\": \"\"\n      }\n    },\n    {\n      \"column\": \"USA\",\n      \"properties\": {\n        \"dtype\": \"number\",\n        \"std\": 138.38598178130596,\n        \"min\": 0.0,\n        \"max\": 392.0,\n        \"num_unique_values\": 5,\n        \"samples\": [\n          0.625,\n          1.0,\n          0.4847416059638678\n        ],\n        \"semantic_type\": \"\",\n        \"description\": \"\"\n      }\n    }\n  ]\n}"
            }
          },
          "metadata": {},
          "execution_count": 64
        }
      ]
    },
    {
      "cell_type": "markdown",
      "source": [
        "# 6.Reprocessing data"
      ],
      "metadata": {
        "id": "aNqbBrADHEqr"
      }
    },
    {
      "cell_type": "code",
      "source": [
        "# a) Get X features andy lable\n",
        "X = dataset.drop(columns='MPG').values\n",
        "y = dataset['MPG'].values"
      ],
      "metadata": {
        "id": "SodEkZSg4y_H"
      },
      "execution_count": 65,
      "outputs": []
    },
    {
      "cell_type": "code",
      "source": [
        "# b) Divide dataset to sub-datasets: train, val, test\n",
        "\n",
        "#train, val, test: 7:2:1\n",
        "val_size = 0.2\n",
        "test_size = 0.125\n",
        "isshuffle = True\n",
        "\n",
        "X_train, X_val, y_train, y_val = train_test_split(X, y, test_size=val_size, random_state=random_state, shuffle=isshuffle)\n",
        "X_train, X_test, y_train, y_test = train_test_split(X_train, y_train, test_size=0.125, random_state=random_state, shuffle=isshuffle)\n",
        "\n",
        "print(X_train.shape)\n",
        "print(X_val.shape)\n",
        "print(X_test.shape)"
      ],
      "metadata": {
        "colab": {
          "base_uri": "https://localhost:8080/"
        },
        "id": "oJRbYilq5PSA",
        "outputId": "3a125c51-c4b9-4c4f-a741-64930682b00b"
      },
      "execution_count": 66,
      "outputs": [
        {
          "output_type": "stream",
          "name": "stdout",
          "text": [
            "(273, 9)\n",
            "(79, 9)\n",
            "(40, 9)\n"
          ]
        }
      ]
    },
    {
      "cell_type": "code",
      "source": [
        "# c) Standardize the input features\n",
        "normalizer = StandardScaler()\n",
        "\n",
        "X_train = normalizer.fit_transform(X_train)\n",
        "X_val = normalizer.transform(X_val)\n",
        "X_test = normalizer.transform(X_test)\n",
        "\n",
        "X_train = torch.tensor(X_train, dtype=torch.float32)\n",
        "X_val = torch.tensor(X_val, dtype=torch.float32)\n",
        "X_test = torch.tensor(X_test, dtype=torch.float32)\n",
        "\n",
        "y_train = torch.tensor(y_train, dtype=torch.float32)\n",
        "y_val = torch.tensor(y_val, dtype=torch.float32)\n",
        "y_test = torch.tensor(y_test, dtype=torch.float32)"
      ],
      "metadata": {
        "id": "2Kk01k8253Wn"
      },
      "execution_count": 67,
      "outputs": []
    },
    {
      "cell_type": "markdown",
      "source": [
        "# 7.Build DataLoader"
      ],
      "metadata": {
        "id": "3bvt7XOu68CH"
      }
    },
    {
      "cell_type": "code",
      "source": [
        "# build PyTorch dataset class to store inputs, outputs\n",
        "class CustomDataset(Dataset):\n",
        "    def __init__(self, X, y):\n",
        "        self.X = X\n",
        "        self.y = y\n",
        "\n",
        "    def __len__(self):\n",
        "        return len(self.y)\n",
        "\n",
        "    def __getitem__(self, idx):\n",
        "        return self.X[idx], self.y[idx]\n",
        "\n",
        "# build DataLoader\n",
        "batch_size = 32\n",
        "\n",
        "train_dataset = CustomDataset(X_train, y_train)\n",
        "val_dataset = CustomDataset(X_val, y_val)\n",
        "\n",
        "train_loader = DataLoader(train_dataset, batch_size=batch_size, shuffle=True)\n",
        "val_loader = DataLoader(val_dataset, batch_size=batch_size, shuffle=False)"
      ],
      "metadata": {
        "id": "frjdllMr6-Vu"
      },
      "execution_count": 68,
      "outputs": []
    },
    {
      "cell_type": "markdown",
      "source": [
        "# 8.Construct MLPs network"
      ],
      "metadata": {
        "id": "Br3MLZ6B8L6n"
      }
    },
    {
      "cell_type": "code",
      "source": [
        "class MLP(nn.Module):\n",
        "    def __init__(self, input_dims, hidden_dims, output_dims):\n",
        "        super().__init__()\n",
        "        self.linear1 = nn.Linear(input_dims, hidden_dims)\n",
        "        self.linear2 = nn.Linear(hidden_dims, hidden_dims)\n",
        "        self.output = nn.Linear(hidden_dims, output_dims)\n",
        "\n",
        "    def forward(self, x):\n",
        "        x = self.linear1(x)\n",
        "        x = F.relu(x)\n",
        "        #x = F.tanh(x)\n",
        "        x = self.linear2(x)\n",
        "        x = F.relu(x)\n",
        "        #x = F.tanh(x)\n",
        "        out = self.output(x)\n",
        "        return out.squeeze(1)"
      ],
      "metadata": {
        "id": "e-zh5VfP8RPG"
      },
      "execution_count": 69,
      "outputs": []
    },
    {
      "cell_type": "code",
      "source": [
        "input_dims = X_train.shape[1]\n",
        "output_dims = 1\n",
        "hidden_dims = 64\n",
        "\n",
        "model = MLP(input_dims=input_dims, hidden_dims=hidden_dims, output_dims=output_dims).to(device)"
      ],
      "metadata": {
        "id": "XRaJS1r693S-"
      },
      "execution_count": 70,
      "outputs": []
    },
    {
      "cell_type": "markdown",
      "source": [
        "# 9.Declare loss and optimizer functions"
      ],
      "metadata": {
        "id": "ibZcArRN-bo9"
      }
    },
    {
      "cell_type": "code",
      "source": [
        "lr = 1e-2\n",
        "criterion = nn.MSELoss()\n",
        "optimizer = torch.optim.SGD(model.parameters(), lr=lr)"
      ],
      "metadata": {
        "id": "R-3mjuJr-gDu"
      },
      "execution_count": 71,
      "outputs": []
    },
    {
      "cell_type": "markdown",
      "source": [
        "# 10.Build R2 score function"
      ],
      "metadata": {
        "id": "BNyAaoOp-__t"
      }
    },
    {
      "cell_type": "code",
      "source": [
        "def r_squared(y_true, y_pred):\n",
        "    y_true = torch.Tensor(y_true).to(device)\n",
        "    y_pred = torch.Tensor(y_pred).to(device)\n",
        "    mean_true = torch.mean(y_true)\n",
        "\n",
        "    ss_tot = torch.sum((y_true - mean_true) ** 2)\n",
        "    ss_res = torch.sum((y_true - y_pred) ** 2)\n",
        "\n",
        "    r2 = 1 - (ss_res / ss_tot)\n",
        "\n",
        "    return r2"
      ],
      "metadata": {
        "id": "FWhFdy0N_DCm"
      },
      "execution_count": 72,
      "outputs": []
    },
    {
      "cell_type": "markdown",
      "source": [
        "# 11.Train the MLP model"
      ],
      "metadata": {
        "id": "AnkAiyhW_bnV"
      }
    },
    {
      "cell_type": "code",
      "source": [
        "epochs = 100\n",
        "train_losses = []\n",
        "val_losses = []\n",
        "train_r2 = []\n",
        "val_r2 = []\n",
        "\n",
        "for epoch in range(epochs):\n",
        "    train_loss = 0.0\n",
        "    train_target = []\n",
        "    val_target = []\n",
        "    train_predict = []\n",
        "    val_predict = []\n",
        "\n",
        "    model.train()\n",
        "\n",
        "    for X_samples, y_samples in train_loader:\n",
        "        X_samples = X_samples.to(device)\n",
        "        y_samples = y_samples.to(device)\n",
        "\n",
        "        optimizer.zero_grad()\n",
        "        outputs = model(X_samples)\n",
        "\n",
        "        train_predict += outputs.tolist()\n",
        "        train_target += y_samples.tolist()\n",
        "\n",
        "        loss = criterion(outputs, y_samples)\n",
        "        loss.backward()\n",
        "        optimizer.step()\n",
        "\n",
        "        train_loss += loss.item()\n",
        "\n",
        "    train_loss = train_loss / len(train_loader)\n",
        "    train_losses.append(train_loss)\n",
        "    train_r2.append(r_squared(train_target, train_predict))\n",
        "    model.eval()\n",
        "\n",
        "    val_loss = 0.0\n",
        "    with torch.no_grad():\n",
        "        for X_samples, y_samples in val_loader:\n",
        "            X_samples = X_samples.to(device)\n",
        "            y_samples = y_samples.to(device)\n",
        "            outputs = model(X_samples)\n",
        "\n",
        "            val_predict += outputs.tolist()\n",
        "            val_target += y_samples.tolist()\n",
        "\n",
        "            loss = criterion(outputs, y_samples)\n",
        "            val_loss += loss.item()\n",
        "    val_loss = val_loss / len(val_loader)\n",
        "    val_losses.append(val_loss)\n",
        "    val_r2.append(r_squared(val_target, val_predict))\n",
        "\n",
        "    print(f'\\nEPOCH {epoch+1}:\\tTraining loss: {train_loss:.3f}\\tValidation loss: {val_loss:.3f}')"
      ],
      "metadata": {
        "colab": {
          "base_uri": "https://localhost:8080/"
        },
        "id": "PbjZUodF_ePt",
        "outputId": "1387fbaa-ccfb-4761-f2fd-010a629b4b42"
      },
      "execution_count": 73,
      "outputs": [
        {
          "output_type": "stream",
          "name": "stdout",
          "text": [
            "\n",
            "EPOCH 1:\tTraining loss: 282.769\tValidation loss: 88.672\n",
            "\n",
            "EPOCH 2:\tTraining loss: 137.669\tValidation loss: 72.346\n",
            "\n",
            "EPOCH 3:\tTraining loss: 71.007\tValidation loss: 19.143\n",
            "\n",
            "EPOCH 4:\tTraining loss: 25.083\tValidation loss: 196.176\n",
            "\n",
            "EPOCH 5:\tTraining loss: 96.139\tValidation loss: 20.444\n",
            "\n",
            "EPOCH 6:\tTraining loss: 17.765\tValidation loss: 9.444\n",
            "\n",
            "EPOCH 7:\tTraining loss: 18.486\tValidation loss: 14.535\n",
            "\n",
            "EPOCH 8:\tTraining loss: 37.859\tValidation loss: 37.427\n",
            "\n",
            "EPOCH 9:\tTraining loss: 17.133\tValidation loss: 38.134\n",
            "\n",
            "EPOCH 10:\tTraining loss: 22.991\tValidation loss: 41.183\n",
            "\n",
            "EPOCH 11:\tTraining loss: 26.723\tValidation loss: 20.063\n",
            "\n",
            "EPOCH 12:\tTraining loss: 9.852\tValidation loss: 5.594\n",
            "\n",
            "EPOCH 13:\tTraining loss: 15.143\tValidation loss: 16.025\n",
            "\n",
            "EPOCH 14:\tTraining loss: 12.213\tValidation loss: 12.023\n",
            "\n",
            "EPOCH 15:\tTraining loss: 14.222\tValidation loss: 7.731\n",
            "\n",
            "EPOCH 16:\tTraining loss: 10.845\tValidation loss: 18.904\n",
            "\n",
            "EPOCH 17:\tTraining loss: 12.312\tValidation loss: 14.885\n",
            "\n",
            "EPOCH 18:\tTraining loss: 15.474\tValidation loss: 12.354\n",
            "\n",
            "EPOCH 19:\tTraining loss: 13.783\tValidation loss: 5.380\n",
            "\n",
            "EPOCH 20:\tTraining loss: 7.285\tValidation loss: 5.100\n",
            "\n",
            "EPOCH 21:\tTraining loss: 8.168\tValidation loss: 4.832\n",
            "\n",
            "EPOCH 22:\tTraining loss: 6.277\tValidation loss: 5.236\n",
            "\n",
            "EPOCH 23:\tTraining loss: 10.050\tValidation loss: 50.349\n",
            "\n",
            "EPOCH 24:\tTraining loss: 10.607\tValidation loss: 15.387\n",
            "\n",
            "EPOCH 25:\tTraining loss: 9.235\tValidation loss: 8.590\n",
            "\n",
            "EPOCH 26:\tTraining loss: 9.764\tValidation loss: 6.845\n",
            "\n",
            "EPOCH 27:\tTraining loss: 6.272\tValidation loss: 6.215\n",
            "\n",
            "EPOCH 28:\tTraining loss: 10.287\tValidation loss: 5.041\n",
            "\n",
            "EPOCH 29:\tTraining loss: 6.383\tValidation loss: 11.531\n",
            "\n",
            "EPOCH 30:\tTraining loss: 17.039\tValidation loss: 4.781\n",
            "\n",
            "EPOCH 31:\tTraining loss: 7.879\tValidation loss: 5.786\n",
            "\n",
            "EPOCH 32:\tTraining loss: 6.630\tValidation loss: 6.206\n",
            "\n",
            "EPOCH 33:\tTraining loss: 7.156\tValidation loss: 4.626\n",
            "\n",
            "EPOCH 34:\tTraining loss: 6.758\tValidation loss: 6.483\n",
            "\n",
            "EPOCH 35:\tTraining loss: 7.450\tValidation loss: 6.463\n",
            "\n",
            "EPOCH 36:\tTraining loss: 5.831\tValidation loss: 5.967\n",
            "\n",
            "EPOCH 37:\tTraining loss: 5.947\tValidation loss: 6.008\n",
            "\n",
            "EPOCH 38:\tTraining loss: 7.273\tValidation loss: 10.705\n",
            "\n",
            "EPOCH 39:\tTraining loss: 7.611\tValidation loss: 14.612\n",
            "\n",
            "EPOCH 40:\tTraining loss: 7.478\tValidation loss: 5.625\n",
            "\n",
            "EPOCH 41:\tTraining loss: 5.840\tValidation loss: 20.782\n",
            "\n",
            "EPOCH 42:\tTraining loss: 8.010\tValidation loss: 5.530\n",
            "\n",
            "EPOCH 43:\tTraining loss: 7.096\tValidation loss: 28.658\n",
            "\n",
            "EPOCH 44:\tTraining loss: 10.015\tValidation loss: 10.240\n",
            "\n",
            "EPOCH 45:\tTraining loss: 6.435\tValidation loss: 4.911\n",
            "\n",
            "EPOCH 46:\tTraining loss: 8.238\tValidation loss: 7.057\n",
            "\n",
            "EPOCH 47:\tTraining loss: 6.315\tValidation loss: 6.785\n",
            "\n",
            "EPOCH 48:\tTraining loss: 5.323\tValidation loss: 6.720\n",
            "\n",
            "EPOCH 49:\tTraining loss: 6.652\tValidation loss: 9.927\n",
            "\n",
            "EPOCH 50:\tTraining loss: 6.583\tValidation loss: 12.207\n",
            "\n",
            "EPOCH 51:\tTraining loss: 8.147\tValidation loss: 7.704\n",
            "\n",
            "EPOCH 52:\tTraining loss: 10.966\tValidation loss: 5.014\n",
            "\n",
            "EPOCH 53:\tTraining loss: 7.193\tValidation loss: 4.809\n",
            "\n",
            "EPOCH 54:\tTraining loss: 6.586\tValidation loss: 5.283\n",
            "\n",
            "EPOCH 55:\tTraining loss: 5.428\tValidation loss: 5.254\n",
            "\n",
            "EPOCH 56:\tTraining loss: 5.410\tValidation loss: 6.241\n",
            "\n",
            "EPOCH 57:\tTraining loss: 7.397\tValidation loss: 7.304\n",
            "\n",
            "EPOCH 58:\tTraining loss: 6.877\tValidation loss: 19.924\n",
            "\n",
            "EPOCH 59:\tTraining loss: 7.607\tValidation loss: 6.910\n",
            "\n",
            "EPOCH 60:\tTraining loss: 5.577\tValidation loss: 4.655\n",
            "\n",
            "EPOCH 61:\tTraining loss: 5.597\tValidation loss: 9.228\n",
            "\n",
            "EPOCH 62:\tTraining loss: 11.281\tValidation loss: 4.500\n",
            "\n",
            "EPOCH 63:\tTraining loss: 6.602\tValidation loss: 13.699\n",
            "\n",
            "EPOCH 64:\tTraining loss: 6.271\tValidation loss: 6.322\n",
            "\n",
            "EPOCH 65:\tTraining loss: 8.267\tValidation loss: 5.209\n",
            "\n",
            "EPOCH 66:\tTraining loss: 5.305\tValidation loss: 5.244\n",
            "\n",
            "EPOCH 67:\tTraining loss: 5.974\tValidation loss: 6.119\n",
            "\n",
            "EPOCH 68:\tTraining loss: 10.930\tValidation loss: 7.538\n",
            "\n",
            "EPOCH 69:\tTraining loss: 7.000\tValidation loss: 9.098\n",
            "\n",
            "EPOCH 70:\tTraining loss: 6.188\tValidation loss: 5.058\n",
            "\n",
            "EPOCH 71:\tTraining loss: 5.184\tValidation loss: 4.528\n",
            "\n",
            "EPOCH 72:\tTraining loss: 5.927\tValidation loss: 9.171\n",
            "\n",
            "EPOCH 73:\tTraining loss: 6.805\tValidation loss: 9.461\n",
            "\n",
            "EPOCH 74:\tTraining loss: 6.086\tValidation loss: 5.240\n",
            "\n",
            "EPOCH 75:\tTraining loss: 5.313\tValidation loss: 16.254\n",
            "\n",
            "EPOCH 76:\tTraining loss: 7.395\tValidation loss: 18.961\n",
            "\n",
            "EPOCH 77:\tTraining loss: 10.982\tValidation loss: 7.603\n",
            "\n",
            "EPOCH 78:\tTraining loss: 6.881\tValidation loss: 5.415\n",
            "\n",
            "EPOCH 79:\tTraining loss: 5.829\tValidation loss: 10.532\n",
            "\n",
            "EPOCH 80:\tTraining loss: 8.031\tValidation loss: 5.808\n",
            "\n",
            "EPOCH 81:\tTraining loss: 10.559\tValidation loss: 5.661\n",
            "\n",
            "EPOCH 82:\tTraining loss: 5.536\tValidation loss: 5.436\n",
            "\n",
            "EPOCH 83:\tTraining loss: 5.733\tValidation loss: 8.689\n",
            "\n",
            "EPOCH 84:\tTraining loss: 5.447\tValidation loss: 5.063\n",
            "\n",
            "EPOCH 85:\tTraining loss: 4.924\tValidation loss: 6.608\n",
            "\n",
            "EPOCH 86:\tTraining loss: 4.733\tValidation loss: 6.193\n",
            "\n",
            "EPOCH 87:\tTraining loss: 5.094\tValidation loss: 7.785\n",
            "\n",
            "EPOCH 88:\tTraining loss: 5.322\tValidation loss: 4.985\n",
            "\n",
            "EPOCH 89:\tTraining loss: 4.837\tValidation loss: 5.246\n",
            "\n",
            "EPOCH 90:\tTraining loss: 6.566\tValidation loss: 5.694\n",
            "\n",
            "EPOCH 91:\tTraining loss: 5.474\tValidation loss: 8.742\n",
            "\n",
            "EPOCH 92:\tTraining loss: 7.184\tValidation loss: 5.376\n",
            "\n",
            "EPOCH 93:\tTraining loss: 6.221\tValidation loss: 5.282\n",
            "\n",
            "EPOCH 94:\tTraining loss: 9.373\tValidation loss: 7.654\n",
            "\n",
            "EPOCH 95:\tTraining loss: 6.485\tValidation loss: 5.797\n",
            "\n",
            "EPOCH 96:\tTraining loss: 8.487\tValidation loss: 22.967\n",
            "\n",
            "EPOCH 97:\tTraining loss: 7.113\tValidation loss: 11.046\n",
            "\n",
            "EPOCH 98:\tTraining loss: 7.269\tValidation loss: 7.265\n",
            "\n",
            "EPOCH 99:\tTraining loss: 5.988\tValidation loss: 5.091\n",
            "\n",
            "EPOCH 100:\tTraining loss: 6.082\tValidation loss: 4.776\n"
          ]
        }
      ]
    },
    {
      "cell_type": "code",
      "source": [
        "# data visualization\n",
        "fig, ax = plt.subplots(2, 2, figsize = (12,10))\n",
        "\n",
        "ax[0,0].plot(train_losses)\n",
        "ax[0,0].set(xlabel='Epoch', ylabel='Loss')\n",
        "ax[0,0].set_title('Training Loss')\n",
        "\n",
        "ax[0,1].plot(val_losses, 'orange')\n",
        "ax[0,1].set(xlabel='Epoch', ylabel='Loss')\n",
        "ax[0,1].set_title('Validation Loss')\n",
        "\n",
        "ax[1,0].plot(train_r2)\n",
        "ax[1,0].set(xlabel='Epoch', ylabel='R2')\n",
        "ax[1,0].set_title('Training R2')\n",
        "\n",
        "plt.show()"
      ],
      "metadata": {
        "colab": {
          "base_uri": "https://localhost:8080/",
          "height": 738
        },
        "id": "q3DpBy_fCsQG",
        "outputId": "632f2852-f3e3-4601-99d1-02081e4517eb"
      },
      "execution_count": 74,
      "outputs": [
        {
          "output_type": "display_data",
          "data": {
            "text/plain": [
              "<Figure size 1200x1000 with 4 Axes>"
            ],
            "image/png": "[encoded data removed]"
          },
          "metadata": {}
        }
      ]
    },
    {
      "cell_type": "markdown",
      "source": [
        "# 12.Evaluate model on test dataset"
      ],
      "metadata": {
        "id": "boZDjR5HBuQN"
      }
    },
    {
      "cell_type": "code",
      "source": [
        "model.eval()\n",
        "\n",
        "with torch.no_grad():\n",
        "    y_hat = model(X_test)\n",
        "    test_set_r2 = r_squared(y_test ,y_hat)\n",
        "    print('Evaluation on test set :')\n",
        "    print(f'R2: {test_set_r2}')\n"
      ],
      "metadata": {
        "colab": {
          "base_uri": "https://localhost:8080/"
        },
        "id": "TWpv-omrBx08",
        "outputId": "8e6da914-26b8-44f1-accc-3e72c0efb7a3"
      },
      "execution_count": 75,
      "outputs": [
        {
          "output_type": "stream",
          "name": "stdout",
          "text": [
            "Evaluation on test set :\n",
            "R2: 0.8789367079734802\n"
          ]
        }
      ]
    }
  ]
}