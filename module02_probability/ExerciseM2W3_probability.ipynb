{
  "cells": [
    {
      "cell_type": "markdown",
      "metadata": {
        "id": "RbDLFTNEFq4r"
      },
      "source": [
        "#4.1 create_train_data()"
      ]
    },
    {
      "cell_type": "code",
      "execution_count": 18,
      "metadata": {
        "colab": {
          "base_uri": "https://localhost:8080/"
        },
        "id": "IxTu0XJdDQSe",
        "outputId": "1e67ebcd-1738-491a-c52c-f4338542e5af"
      },
      "outputs": [
        {
          "name": "stdout",
          "output_type": "stream",
          "text": [
            "[['Sunny' 'Hot' 'High' 'Weak' 'no']\n",
            " ['Sunny' 'Hot' 'High' 'Strong' 'no']\n",
            " ['Overcast' 'Hot' 'High' 'Weak' 'yes']\n",
            " ['Rain' 'Mild' 'High' 'Weak' 'yes']\n",
            " ['Rain' 'Cool' 'Normal' 'Weak' 'yes']\n",
            " ['Rain' 'Cool' 'Normal' 'Strong' 'no']\n",
            " ['Overcast' 'Cool' 'Normal' 'Strong' 'yes']\n",
            " ['Overcast' 'Mild' 'High' 'Weak' 'no']\n",
            " ['Sunny' 'Cool' 'Normal' 'Weak' 'yes']\n",
            " ['Rain' 'Mild' 'Normal' 'Weak' 'yes']]\n"
          ]
        }
      ],
      "source": [
        "# ########################\n",
        "# Create data\n",
        "# ########################\n",
        "import numpy as np\n",
        "\n",
        "def create_train_data () :\n",
        "    data = [['Sunny','Hot','High','Weak','no'],\n",
        "            ['Sunny','Hot','High','Strong','no'],\n",
        "            ['Overcast','Hot','High','Weak','yes'],\n",
        "            ['Rain','Mild','High','Weak','yes'],\n",
        "            ['Rain','Cool','Normal','Weak','yes'],\n",
        "            ['Rain','Cool','Normal','Strong','no'],\n",
        "            ['Overcast','Cool','Normal','Strong','yes'],\n",
        "            ['Overcast','Mild','High','Weak','no'],\n",
        "            ['Sunny','Cool','Normal','Weak','yes'],\n",
        "            ['Rain','Mild','Normal','Weak','yes']]\n",
        "\n",
        "    return np.array(data)\n",
        "\n",
        "train_data = create_train_data()\n",
        "print (train_data)\n",
        "\n"
      ]
    },
    {
      "cell_type": "markdown",
      "metadata": {
        "id": "jRQchQD1GRXp"
      },
      "source": [
        "# 4.2. compute_prior_probablity()"
      ]
    },
    {
      "cell_type": "code",
      "execution_count": 19,
      "metadata": {
        "colab": {
          "base_uri": "https://localhost:8080/"
        },
        "id": "onlDqRFWGT-n",
        "outputId": "2da9a1ef-3517-4042-820c-bb51ee23bc02"
      },
      "outputs": [
        {
          "name": "stdout",
          "output_type": "stream",
          "text": [
            "P(play tennis = No) = 0.4\n",
            "P(play tennis = Yes) = 0.6\n"
          ]
        }
      ],
      "source": [
        "def compute_prior_probablity(train_data):\n",
        "    y_unique = ['no', 'yes']\n",
        "    prior_probability = np.zeros(len(y_unique))\n",
        "    # your code here ******************\n",
        "    prior_probability[0] = len(train_data[train_data[:, -1] == 'no']) / len(train_data)\n",
        "    prior_probability[1] = len(train_data[train_data[:, -1] == 'yes']) / len(train_data)\n",
        "    return prior_probability\n",
        "\n",
        "prior_probablity = compute_prior_probablity (train_data)\n",
        "print(\"P(play tennis = No) =\", prior_probablity[0])\n",
        "print(\"P(play tennis = Yes) =\", prior_probablity[1])"
      ]
    },
    {
      "cell_type": "markdown",
      "metadata": {
        "id": "sDpkSjCnH2Ks"
      },
      "source": [
        "# 4.3 compute_conditional_probability()"
      ]
    },
    {
      "cell_type": "code",
      "execution_count": 27,
      "metadata": {
        "colab": {
          "base_uri": "https://localhost:8080/"
        },
        "id": "fQd2H-ESH4qo",
        "outputId": "b07d27f7-1f65-49e0-d49c-4f677a16ee2c"
      },
      "outputs": [
        {
          "name": "stdout",
          "output_type": "stream",
          "text": [
            "x1 =  ['Overcast' 'Rain' 'Sunny']\n",
            "x2 =  ['Cool' 'Hot' 'Mild']\n",
            "x3 =  ['High' 'Normal']\n",
            "x4 =  ['Strong' 'Weak']\n"
          ]
        }
      ],
      "source": [
        "def compute_conditional_probability(train_data):\n",
        "    y_unique = ['no', 'yes']\n",
        "    conditional_probability = []\n",
        "    list_x_name = []\n",
        "\n",
        "    for i in range(0, train_data.shape[1]-1):\n",
        "        x_unique = np.unique(train_data[:,i])\n",
        "        list_x_name.append(x_unique)\n",
        "        # your code here ********************\n",
        "        x_conditional_probability = np.zeros((len(y_unique), len(x_unique)))\n",
        "        for j in range(len(x_unique)):\n",
        "            x_conditional_probability[0, j] = len(train_data[(train_data[:, i] == x_unique[j]) & (train_data[:, -1] == y_unique[0])]) / len(train_data[train_data[:, -1] == y_unique[0]])\n",
        "            x_conditional_probability[1, j] = len(train_data[(train_data[:, i] == x_unique[j]) & (train_data[:, -1] == y_unique[1])]) / len(train_data[train_data[:, -1] == y_unique[1]])\n",
        "        conditional_probability.append(x_conditional_probability)\n",
        "\n",
        "    return conditional_probability, list_x_name\n",
        "\n",
        "conditional_probability , list_x_name = compute_conditional_probability(train_data)\n",
        "print (\"x1 = \", list_x_name[0])\n",
        "print (\"x2 = \", list_x_name[1])\n",
        "print (\"x3 = \", list_x_name[2])\n",
        "print (\"x4 = \", list_x_name[3])\n"
      ]
    },
    {
      "cell_type": "markdown",
      "metadata": {
        "id": "0L4LZHPqLdMy"
      },
      "source": [
        "# 4.4 get_index_from_value()"
      ]
    },
    {
      "cell_type": "code",
      "execution_count": 28,
      "metadata": {
        "colab": {
          "base_uri": "https://localhost:8080/"
        },
        "id": "Q_XZCo4GLgdu",
        "outputId": "d575cfd4-8375-4be0-8dd4-0e983494eabd"
      },
      "outputs": [
        {
          "name": "stdout",
          "output_type": "stream",
          "text": [
            "0 1 2\n"
          ]
        }
      ],
      "source": [
        "# This function is used to return the index of the feature name\n",
        "def get_index_from_value (feature_name, list_features):\n",
        "    return np.where(list_features == feature_name)[0][0]\n",
        "\n",
        "outlook = list_x_name[0]\n",
        "i1 = get_index_from_value (\"Overcast\", outlook)\n",
        "i2 = get_index_from_value (\"Rain\", outlook)\n",
        "i3 = get_index_from_value (\"Sunny\", outlook)\n",
        "\n",
        "print (i1, i2, i3)"
      ]
    },
    {
      "cell_type": "markdown",
      "metadata": {
        "id": "qRdc1DKkR2Y2"
      },
      "source": [
        "# P(’Outlook’=’Sunny’|Play Tennis’=’Yes’)"
      ]
    },
    {
      "cell_type": "code",
      "execution_count": 31,
      "metadata": {
        "colab": {
          "base_uri": "https://localhost:8080/"
        },
        "id": "Aiddz16PMopk",
        "outputId": "41bfaf78-92d9-4137-987f-a9fe93f55d32"
      },
      "outputs": [
        {
          "name": "stdout",
          "output_type": "stream",
          "text": [
            "P('Outlook' = 'Sunny'|Play Tennis = 'Yes') =  0.17\n"
          ]
        }
      ],
      "source": [
        "train_data = create_train_data()\n",
        "conditional_probability, list_x_name = compute_conditional_probability(train_data)\n",
        "# Compute P(\" Outlook \"=\" Sunny \"| Play Tennis \"=\" Yes \")\n",
        "x1 = get_index_from_value (\"Sunny\", list_x_name[0])\n",
        "\n",
        "print(\"P('Outlook' = 'Sunny'|Play Tennis = 'Yes') = \", np.round(conditional_probability[0][1,x1],2))"
      ]
    },
    {
      "cell_type": "markdown",
      "metadata": {
        "id": "rssiUG0BR6-A"
      },
      "source": [
        "# P(’Outlook’=’Sunny’|Play Tennis’=’No’)"
      ]
    },
    {
      "cell_type": "code",
      "execution_count": 33,
      "metadata": {
        "colab": {
          "base_uri": "https://localhost:8080/"
        },
        "id": "3GTK3PS9SD2w",
        "outputId": "acb57ad8-037d-4e16-ff2d-49eff027173d"
      },
      "outputs": [
        {
          "name": "stdout",
          "output_type": "stream",
          "text": [
            "P('Outlook' = 'Sunny'| Play Tennis = 'No') =  0.5\n"
          ]
        }
      ],
      "source": [
        "train_data = create_train_data()\n",
        "conditional_probability, list_x_name = compute_conditional_probability(train_data)\n",
        "\n",
        "# Compute P(\" Outlook \"=\" Sunny \"| Play Tennis \"=\" No \")\n",
        "x1 = get_index_from_value (\"Sunny\", list_x_name[0])\n",
        "print (\"P('Outlook' = 'Sunny'| Play Tennis = 'No') = \", np.round(conditional_probability[0][0,x1], 2))"
      ]
    },
    {
      "cell_type": "markdown",
      "metadata": {
        "id": "Fy7edIBBSwFT"
      },
      "source": [
        "# 4.5 train_naive_bayes()"
      ]
    },
    {
      "cell_type": "code",
      "execution_count": 34,
      "metadata": {
        "id": "BVgi67hNSymu"
      },
      "outputs": [],
      "source": [
        "# ##########################\n",
        "# Train Naive Bayes Model\n",
        "# ##########################\n",
        "def train_naive_bayes(train_data):\n",
        "    # Step 1: Calculate Prior Probability\n",
        "    y_unique = ['no', 'yes']\n",
        "    prior_probability = compute_prior_probablity(train_data)\n",
        "\n",
        "    # Step 2: Calculate Conditional Probability\n",
        "    conditional_probability , list_x_name = compute_conditional_probability(train_data)\n",
        "\n",
        "    return prior_probability , conditional_probability , list_x_name"
      ]
    },
    {
      "cell_type": "markdown",
      "metadata": {
        "id": "2fdbSUqgTYWy"
      },
      "source": [
        "# 4.6 prediction_play_tennis()"
      ]
    },
    {
      "cell_type": "code",
      "execution_count": 36,
      "metadata": {
        "id": "MddCUSWFTbCe"
      },
      "outputs": [],
      "source": [
        "# ###################\n",
        "# Prediction\n",
        "# ###################\n",
        "def prediction_play_tennis(x, list_x_name, prior_probability, conditional_probability):\n",
        "\n",
        "    x1 = get_index_from_value(x[0], list_x_name[0])\n",
        "    x2 = get_index_from_value (x[1], list_x_name[1])\n",
        "    x3 = get_index_from_value (x[2], list_x_name[2])\n",
        "    x4 = get_index_from_value (x[3], list_x_name[3])\n",
        "\n",
        "    p0 = 0\n",
        "    p1 = 0\n",
        "\n",
        "    # your code here ***********************\n",
        "    p0 = conditional_probability[0][0,x1] * conditional_probability[1][0,x2] * conditional_probability[2][0,x3] * conditional_probability[3][0,x4] * prior_probability[0]\n",
        "    p1 = conditional_probability[0][1,x1] * conditional_probability[1][1,x2] * conditional_probability[2][1,x3] * conditional_probability[3][1,x4] * prior_probability[1]\n",
        "\n",
        "    if p0 > p1 :\n",
        "        y_pred = 0\n",
        "    else :\n",
        "        y_pred = 1\n",
        "\n",
        "    return y_pred"
      ]
    },
    {
      "cell_type": "markdown",
      "metadata": {
        "id": "NW9B6FhlU62A"
      },
      "source": [
        "# X = ['Sunny','Cool','High','Strong']"
      ]
    },
    {
      "cell_type": "code",
      "execution_count": 37,
      "metadata": {
        "colab": {
          "base_uri": "https://localhost:8080/"
        },
        "id": "yJeuMYBvUcnl",
        "outputId": "d6266f83-0a6a-47fa-bba3-cb56fa6a330e"
      },
      "outputs": [
        {
          "name": "stdout",
          "output_type": "stream",
          "text": [
            "Ad should not go!\n"
          ]
        }
      ],
      "source": [
        "X = ['Sunny','Cool','High','Strong']\n",
        "data = create_train_data ()\n",
        "prior_probability , conditional_probability , list_x_name = train_naive_bayes(data)\n",
        "pred = prediction_play_tennis(X, list_x_name, prior_probability, conditional_probability)\n",
        "\n",
        "if(pred) :\n",
        "    print(\"Ad should go!\")\n",
        "else :\n",
        "    print(\"Ad should not go!\")"
      ]
    }
  ],
  "metadata": {
    "colab": {
      "provenance": [],
      "toc_visible": true
    },
    "kernelspec": {
      "display_name": "Python 3",
      "name": "python3"
    },
    "language_info": {
      "name": "python"
    }
  },
  "nbformat": 4,
  "nbformat_minor": 0
}
